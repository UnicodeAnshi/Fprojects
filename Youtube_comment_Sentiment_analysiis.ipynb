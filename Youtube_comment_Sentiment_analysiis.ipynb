{
  "cells": [
    {
      "cell_type": "markdown",
      "metadata": {
        "id": "view-in-github",
        "colab_type": "text"
      },
      "source": [
        "<a href=\"https://colab.research.google.com/github/UnicodeAnshi/Projects/blob/main/Youtube_comment_Sentiment_analysiis.ipynb\" target=\"_parent\"><img src=\"https://colab.research.google.com/assets/colab-badge.svg\" alt=\"Open In Colab\"/></a>"
      ]
    },
    {
      "cell_type": "markdown",
      "metadata": {
        "id": "QoOxSuvhTSZk"
      },
      "source": [
        "# installing new packaages\n",
        "\n",
        "\n",
        "\n",
        "\n"
      ]
    },
    {
      "cell_type": "code",
      "execution_count": null,
      "metadata": {
        "id": "gBV0EUYhTfPk"
      },
      "outputs": [],
      "source": [
        "!pip install pyttsx\n",
        "!pip install googletrans\n",
        "!pip install emoji\n",
        "!pip install langdetect"
      ]
    },
    {
      "cell_type": "markdown",
      "metadata": {
        "id": "4OGgnC4ZbDjW"
      },
      "source": [
        "##Importing necessary libraries and setting API service\n",
        "\n"
      ]
    },
    {
      "cell_type": "code",
      "execution_count": 36,
      "metadata": {
        "colab": {
          "base_uri": "https://localhost:8080/"
        },
        "id": "pU0NFlCZU79F",
        "outputId": "45efc336-2c4c-44f9-cd6f-ecd288f74acc"
      },
      "outputs": [
        {
          "output_type": "stream",
          "name": "stderr",
          "text": [
            "[nltk_data] Downloading package stopwords to /root/nltk_data...\n",
            "[nltk_data]   Package stopwords is already up-to-date!\n"
          ]
        }
      ],
      "source": [
        "import csv\n",
        "import googleapiclient.discovery\n",
        "from googletrans import Translator\n",
        "import emoji\n",
        "import pandas as pd\n",
        "import string\n",
        "import re\n",
        "from langdetect import detect, DetectorFactory\n",
        "import nltk\n",
        "from nltk.corpus import stopwords\n",
        "from textblob import TextBlob\n",
        "\n",
        "nltk.download('stopwords')\n",
        "stop_words = set(stopwords.words('english'))"
      ]
    },
    {
      "cell_type": "markdown",
      "metadata": {
        "id": "RUaPZ5tmln3N"
      },
      "source": [
        "SETTING UP API SERVICE"
      ]
    },
    {
      "cell_type": "code",
      "execution_count": 40,
      "metadata": {
        "id": "g4rfzhPbluoG"
      },
      "outputs": [],
      "source": [
        "api_service_name = \"youtube\"\n",
        "api_version = \"v3\"\n",
        "DEVELOPER_KEY = \"add your developer key here\"\n",
        "youtube = googleapiclient.discovery.build(\n",
        "    api_service_name, api_version, developerKey=DEVELOPER_KEY)"
      ]
    },
    {
      "cell_type": "markdown",
      "metadata": {
        "id": "4IDX-mRgTNQr"
      },
      "source": [
        "# Extracting comments"
      ]
    },
    {
      "cell_type": "code",
      "execution_count": 41,
      "metadata": {
        "id": "hi_Ljur7TEum"
      },
      "outputs": [],
      "source": [
        "def get_comments(video_id, max_comments):\n",
        "    comments = []\n",
        "    response = youtube.commentThreads().list(\n",
        "        part=\"snippet\",\n",
        "        videoId='OzY2r2JXsDM',\n",
        "        maxResults=100  # API allows a maximum of 100 results per request\n",
        "    ).execute()\n",
        "\n",
        "    while response and len(comments) < max_comments:\n",
        "        for item in response[\"items\"]:\n",
        "            comment = item[\"snippet\"][\"topLevelComment\"][\"snippet\"][\"textDisplay\"]\n",
        "            comments.append(comment)\n",
        "            if len(comments) >= max_comments:\n",
        "                break\n",
        "\n",
        "        # Check for nextPageToken\n",
        "        if 'nextPageToken' in response:\n",
        "            response = youtube.commentThreads().list(\n",
        "                part=\"snippet\",\n",
        "                videoId=video_id,\n",
        "                maxResults=100,\n",
        "                pageToken=response['nextPageToken']\n",
        "            ).execute()\n",
        "        else:\n",
        "            break\n",
        "\n",
        "    return comments\n",
        "\n",
        "# Extract comments\n",
        "video_id = \"73_1biulkYk\"\n",
        "max_comments = 1000000  # Desired number of comments\n",
        "#fetching comments\n",
        "comments = get_comments(video_id, max_comments)"
      ]
    },
    {
      "cell_type": "markdown",
      "metadata": {
        "id": "CvtDu-P9h0O2"
      },
      "source": [
        "REMOVING PUNCTUATION MARKS"
      ]
    },
    {
      "cell_type": "code",
      "execution_count": 42,
      "metadata": {
        "id": "gGpyfhKKwLhX"
      },
      "outputs": [],
      "source": [
        "def remove_punctuation(comment):\n",
        "    translator = str.maketrans('', '', string.punctuation)\n",
        "    return comment.translate(translator)"
      ]
    },
    {
      "cell_type": "markdown",
      "metadata": {
        "id": "spSWD5X8h4Ae"
      },
      "source": [
        "REMOVING LINKS"
      ]
    },
    {
      "cell_type": "code",
      "execution_count": 43,
      "metadata": {
        "id": "mASdfszjwJHh"
      },
      "outputs": [],
      "source": [
        "def contains_link(comment):\n",
        "    url_pattern = re.compile(r'https?://\\S+|www\\.\\S+')\n",
        "    return bool(url_pattern.search(comment))"
      ]
    },
    {
      "cell_type": "markdown",
      "metadata": {
        "id": "idNGvzg6h7iv"
      },
      "source": [
        "CONVERTING EMOJI TO TEXT"
      ]
    },
    {
      "cell_type": "code",
      "execution_count": 44,
      "metadata": {
        "id": "7O6zsQKmz-cR"
      },
      "outputs": [],
      "source": [
        "def convert_emojis_to_text(text):\n",
        "    return emoji.demojize(text)"
      ]
    },
    {
      "cell_type": "markdown",
      "metadata": {
        "id": "WgjAd37ZiGsG"
      },
      "source": [
        "CHECKING IF COMMENT IS IN ENGLISH OR NOT"
      ]
    },
    {
      "cell_type": "code",
      "execution_count": 45,
      "metadata": {
        "id": "vbz_bgyj1w6W"
      },
      "outputs": [],
      "source": [
        "def is_english(comment):\n",
        "    try:\n",
        "        return detect(comment) == 'en'\n",
        "    except:\n",
        "        return False"
      ]
    },
    {
      "cell_type": "markdown",
      "metadata": {
        "id": "FPvaw6IAiPJZ"
      },
      "source": [
        "PREPROCESSING"
      ]
    },
    {
      "cell_type": "code",
      "execution_count": 46,
      "metadata": {
        "id": "2Y-EssYvw-gw"
      },
      "outputs": [],
      "source": [
        "translated_comments = []\n",
        "for comment in comments:\n",
        "    if not contains_link(comment):\n",
        "        cleaned_comment = remove_punctuation(comment)\n",
        "        emoji_converted_comment = convert_emojis_to_text(cleaned_comment)\n",
        "        if is_english(emoji_converted_comment):\n",
        "            translated_comments.append(emoji_converted_comment)\n"
      ]
    },
    {
      "cell_type": "code",
      "execution_count": 47,
      "metadata": {
        "colab": {
          "base_uri": "https://localhost:8080/"
        },
        "id": "sB68abTdw-Kx",
        "outputId": "fd5615bd-a5bb-439f-8cc4-2ca2ea46dd55"
      },
      "outputs": [
        {
          "output_type": "stream",
          "name": "stdout",
          "text": [
            "Number of comments extracted: 10395\n"
          ]
        }
      ],
      "source": [
        "print(f\"Number of comments extracted: {len(translated_comments)}\")\n",
        "#converting to file\n",
        "csv_file=\"youtube_comments.csv\"\n",
        "\n",
        "with open(csv_file,mode='w',newline='',encoding='utf-8')as file:\n",
        "    writer= csv.writer(file)\n",
        "    for comment in translated_comments:\n",
        "      writer.writerow([comment])\n",
        "df=pd.read_csv(\"youtube_comments.csv\")"
      ]
    },
    {
      "cell_type": "markdown",
      "metadata": {
        "id": "NMfc1kizi7vD"
      },
      "source": [
        "converting all uppercase letters to lower ones"
      ]
    },
    {
      "cell_type": "code",
      "execution_count": 48,
      "metadata": {
        "id": "8t_QED5b_iWP"
      },
      "outputs": [],
      "source": [
        "\n",
        "df=df.applymap(lambda x: x.lower()if isinstance(x,str)else x)\n",
        "df.to_csv(\"youtube_comments.csv\",index=False)"
      ]
    },
    {
      "cell_type": "markdown",
      "metadata": {
        "id": "gnQMhg29mFdI"
      },
      "source": [
        "READING THE FILE"
      ]
    },
    {
      "cell_type": "code",
      "execution_count": 49,
      "metadata": {
        "colab": {
          "base_uri": "https://localhost:8080/"
        },
        "id": "yM-svNDcmLdN",
        "outputId": "00d2aa04-ea58-4e6c-810d-3078fd26e983"
      },
      "outputs": [
        {
          "output_type": "stream",
          "name": "stdout",
          "text": [
            "Index(['comments'], dtype='object')\n"
          ]
        }
      ],
      "source": [
        "df = pd.read_csv('youtube_comments.csv')\n",
        "df.rename(columns={\n",
        "    df.columns[0]:'comments'},inplace=True)\n",
        "print(df.columns)\n",
        "df = df.replace({'_': ' ', ':': ' '}, regex=True)\n",
        "# Save the cleaned DataFrame back to a CSV file if needed\n",
        "df.to_csv('youtube_comments.csv', index=False)"
      ]
    },
    {
      "cell_type": "markdown",
      "metadata": {
        "id": "RtoZgl-Vqsix"
      },
      "source": [
        "SENTIMENT ANALYSIS USING TEXT BLOB"
      ]
    },
    {
      "cell_type": "code",
      "execution_count": 50,
      "metadata": {
        "colab": {
          "base_uri": "https://localhost:8080/"
        },
        "id": "eEm8IOs3VH6I",
        "outputId": "388b3990-5378-4a40-8447-5c20d10b33f6"
      },
      "outputs": [
        {
          "output_type": "execute_result",
          "data": {
            "text/plain": [
              "sentiment\n",
              "neutral     4518\n",
              "positive    4385\n",
              "negative    1560\n",
              "Name: count, dtype: int64"
            ]
          },
          "metadata": {},
          "execution_count": 50
        }
      ],
      "source": [
        "df=pd.read_csv('youtube_comments.csv')\n",
        "\n",
        "#defining a function for sentiment analysis\n",
        "def getSentiment(text):\n",
        "  blob=TextBlob(str(text))\n",
        "  if(blob.sentiment.polarity<0.0):\n",
        "    return 'negative'\n",
        "  elif(blob.sentiment.polarity>0.0):\n",
        "    return 'positive'\n",
        "  else:\n",
        "    return 'neutral'\n",
        "\n",
        "#applying sentiment analysis to comments column\n",
        "df['sentiment']=df['comments'].apply(getSentiment)\n",
        "df.to_csv('youtube_comments.csv')\n",
        "df['sentiment'].value_counts(0)"
      ]
    },
    {
      "cell_type": "markdown",
      "metadata": {
        "id": "EiNyswzUqvXc"
      },
      "source": [
        "Encoding target variable"
      ]
    },
    {
      "cell_type": "code",
      "execution_count": 51,
      "metadata": {
        "colab": {
          "base_uri": "https://localhost:8080/"
        },
        "id": "IAefUS1uVNCo",
        "outputId": "01c06896-9bd6-4088-b5a7-199c57e604db"
      },
      "outputs": [
        {
          "output_type": "execute_result",
          "data": {
            "text/plain": [
              "sentiment\n",
              "1    4518\n",
              "2    4385\n",
              "0    1560\n",
              "Name: count, dtype: int64"
            ]
          },
          "metadata": {},
          "execution_count": 51
        }
      ],
      "source": [
        "from sklearn import preprocessing\n",
        "object =preprocessing.LabelEncoder()\n",
        "df['sentiment']=object.fit_transform(df['sentiment'])\n",
        "df['sentiment'].value_counts(0)"
      ]
    },
    {
      "cell_type": "markdown",
      "metadata": {
        "id": "OjdEs-MLq1eP"
      },
      "source": [
        "DECISION TREE"
      ]
    },
    {
      "cell_type": "code",
      "execution_count": 52,
      "metadata": {
        "colab": {
          "base_uri": "https://localhost:8080/"
        },
        "id": "ZC2Bq_TTqFlO",
        "outputId": "0a81af7b-bc20-4d31-e3c2-058570514bb0"
      },
      "outputs": [
        {
          "output_type": "stream",
          "name": "stdout",
          "text": [
            "accuracy:  0.9077878643096035\n"
          ]
        }
      ],
      "source": [
        "from sklearn.model_selection import train_test_split\n",
        "from sklearn.tree import DecisionTreeClassifier\n",
        "from sklearn.metrics import accuracy_score\n",
        "from sklearn.feature_extraction.text import TfidfVectorizer\n",
        "\n",
        "# Split the data into features (X) and labels (y)\n",
        "df.dropna(subset=['comments'], inplace=True)\n",
        "X = df['comments']\n",
        "y = df['sentiment']\n",
        "\n",
        "X_train, X_test, y_train, y_test = train_test_split(X, y, test_size=0.2, random_state=42)\n",
        "\n",
        "# Vectorize text data\n",
        "vectorizer = TfidfVectorizer()\n",
        "X_train_tfidf = vectorizer.fit_transform(X_train)\n",
        "X_test_tfidf = vectorizer.transform(X_test)\n",
        "\n",
        "#vectorise tree data\n",
        "clf=DecisionTreeClassifier()\n",
        "clf.fit(X_train_tfidf,y_train)\n",
        "y_pred=clf.predict(X_test_tfidf)\n",
        "\n",
        "#checking accuracy\n",
        "accuracy=accuracy_score(y_test,y_pred)\n",
        "accud=accuracy\n",
        "print(\"accuracy: \", accuracy)"
      ]
    },
    {
      "cell_type": "markdown",
      "metadata": {
        "id": "xY2Z7fPiqOVU"
      },
      "source": [
        "RANDOM FOREST"
      ]
    },
    {
      "cell_type": "code",
      "execution_count": 53,
      "metadata": {
        "colab": {
          "base_uri": "https://localhost:8080/"
        },
        "id": "xqYwym74qOoZ",
        "outputId": "8dea557e-a324-4cfd-db47-4f0747c22563"
      },
      "outputs": [
        {
          "output_type": "stream",
          "name": "stdout",
          "text": [
            "Accuracy: 0.8342092689918776\n"
          ]
        }
      ],
      "source": [
        "from sklearn.feature_extraction.text import TfidfVectorizer\n",
        "from sklearn.ensemble import RandomForestClassifier\n",
        "from sklearn.model_selection import train_test_split\n",
        "from sklearn.metrics import accuracy_score\n",
        "\n",
        "# Load the dataset\n",
        "data = pd.read_csv('youtube_comments.csv')\n",
        "data.dropna(subset=['comments'], inplace=True)\n",
        "\n",
        "# Split the dataset into features (comments) and target variable (label)\n",
        "X = data['comments']  # Features\n",
        "y = data['sentiment']    # Target variable\n",
        "\n",
        "# Convert text data into numerical format using TF-IDF vectorizer\n",
        "vectorizer = TfidfVectorizer()  # You can adjust max_features as needed\n",
        "X = vectorizer.fit_transform(X)\n",
        "\n",
        "# Split the data into training and testing sets\n",
        "X_train, X_test, y_train, y_test = train_test_split(X, y, test_size=0.2, random_state=42)\n",
        "\n",
        "# Create a Random Forest classifier\n",
        "rf_classifier = RandomForestClassifier(n_estimators=100, random_state=42)\n",
        "\n",
        "# Train the model\n",
        "rf_classifier.fit(X_train, y_train)\n",
        "\n",
        "# Make predictions on the testing data\n",
        "y_pred = rf_classifier.predict(X_test)\n",
        "\n",
        "# Evaluate the model\n",
        "accuracy = accuracy_score(y_test, y_pred)\n",
        "accurf=accuracy\n",
        "print(\"Accuracy:\", accuracy)"
      ]
    },
    {
      "cell_type": "markdown",
      "metadata": {
        "id": "fJV61K7urBU3"
      },
      "source": [
        "RNN"
      ]
    },
    {
      "cell_type": "code",
      "execution_count": 54,
      "metadata": {
        "colab": {
          "base_uri": "https://localhost:8080/"
        },
        "id": "2eLjUyrFqRw5",
        "outputId": "2f9d874b-0219-485c-9a0f-c1d39e776775"
      },
      "outputs": [
        {
          "output_type": "stream",
          "name": "stdout",
          "text": [
            "Epoch 1/5\n",
            "66/66 [==============================] - 55s 779ms/step - loss: 0.8933 - accuracy: 0.5870 - val_loss: 0.7071 - val_accuracy: 0.7047\n",
            "Epoch 2/5\n",
            "66/66 [==============================] - 50s 752ms/step - loss: 0.4584 - accuracy: 0.8283 - val_loss: 0.3561 - val_accuracy: 0.8753\n",
            "Epoch 3/5\n",
            "66/66 [==============================] - 52s 785ms/step - loss: 0.1744 - accuracy: 0.9430 - val_loss: 0.2742 - val_accuracy: 0.9107\n",
            "Epoch 4/5\n",
            "66/66 [==============================] - 50s 767ms/step - loss: 0.0863 - accuracy: 0.9757 - val_loss: 0.2663 - val_accuracy: 0.9130\n",
            "Epoch 5/5\n",
            "66/66 [==============================] - 55s 821ms/step - loss: 0.0690 - accuracy: 0.9809 - val_loss: 0.2591 - val_accuracy: 0.9226\n",
            "66/66 [==============================] - 3s 45ms/step - loss: 0.2591 - accuracy: 0.9226\n",
            "Test Accuracy: 0.9225991368293762\n"
          ]
        }
      ],
      "source": [
        "import tensorflow as tf\n",
        "from sklearn.model_selection import train_test_split\n",
        "from sklearn.preprocessing import LabelEncoder\n",
        "from tensorflow.keras.preprocessing.text import Tokenizer\n",
        "from tensorflow.keras.preprocessing.sequence import pad_sequences\n",
        "from tensorflow.keras.models import Sequential\n",
        "from tensorflow.keras.layers import Embedding, LSTM, Dense\n",
        "from tensorflow.keras.utils import to_categorical\n",
        "\n",
        "df=pd.read_csv(\"youtube_comments.csv\")\n",
        "df.dropna( inplace=True)\n",
        "df['comments'] = df['comments'].astype(str)\n",
        "\n",
        "#tokenise comments\n",
        "tokenizer = Tokenizer()\n",
        "tokenizer.fit_on_texts(df['comments'])\n",
        "X = tokenizer.texts_to_sequences(df['comments'])\n",
        "\n",
        "\n",
        "#pad ssequences\n",
        "max_len = 200\n",
        "X = pad_sequences(X, maxlen=max_len)\n",
        "\n",
        "#encoding labels\n",
        "label_encoder = LabelEncoder()\n",
        "y = label_encoder.fit_transform(df['sentiment'])\n",
        "\n",
        "y = to_categorical(y, num_classes=3)\n",
        "\n",
        "# y = df['sentiment']\n",
        "# y = to_categorical(y, num_classes=3)\n",
        "# X = X[:len(y)]\n",
        "X_train, X_test, y_train, y_test = train_test_split(X, y, test_size=0.2, random_state=42)\n",
        "\n",
        "model = Sequential()\n",
        "model.add(Embedding(input_dim=len(tokenizer.word_index) + 1, output_dim=128))\n",
        "model.add(LSTM(units=64, dropout=0.2, recurrent_dropout=0.2))\n",
        "model.add(Dense(units=3, activation='softmax'))\n",
        "\n",
        "#compile model\n",
        "model.compile(loss='categorical_crossentropy', optimizer='adam', metrics=['accuracy'])\n",
        "\n",
        "# Train the model\n",
        "model.fit(X_train, y_train, batch_size=128, epochs=5, validation_data=(X_test, y_test))\n",
        "\n",
        "# Evaluate the model\n",
        "loss, accuracy = model.evaluate(X_test, y_test)\n",
        "accur=accuracy\n",
        "print(\"Test Accuracy:\", accuracy)"
      ]
    },
    {
      "cell_type": "code",
      "execution_count": 55,
      "metadata": {
        "id": "aJ2vdMjuqVhc",
        "colab": {
          "base_uri": "https://localhost:8080/",
          "height": 487
        },
        "outputId": "532e8d63-2aa6-4894-d582-75e5bc7c9725"
      },
      "outputs": [
        {
          "output_type": "display_data",
          "data": {
            "text/plain": [
              "<Figure size 1000x500 with 1 Axes>"
            ],
            "image/png": "[encoded data removed]"
          },
          "metadata": {}
        }
      ],
      "source": [
        "import matplotlib.pyplot as plt\n",
        "\n",
        "# Assuming you have the accuracies in a dictionary\n",
        "accuracies = {\n",
        "    'Decision Tree': accud,\n",
        "    'Random Forest': accurf,\n",
        "    'RNN': accur\n",
        "}\n",
        "\n",
        "models = list(accuracies.keys())\n",
        "values = list(accuracies.values())\n",
        "\n",
        "plt.figure(figsize=(10, 5))\n",
        "plt.plot(models, values, marker='o', linestyle='-', color='b')\n",
        "plt.xlabel('Models')\n",
        "plt.ylabel('Accuracy')\n",
        "plt.title('Model Accuracies')\n",
        "plt.grid(True)\n",
        "plt.show()\n"
      ]
    }
  ],
  "metadata": {
    "colab": {
      "provenance": [],
      "authorship_tag": "ABX9TyMbMF0ypMQILTL9EOvB1VYb",
      "include_colab_link": true
    },
    "kernelspec": {
      "display_name": "Python 3",
      "name": "python3"
    },
    "language_info": {
      "name": "python"
    }
  },
  "nbformat": 4,
  "nbformat_minor": 0
}